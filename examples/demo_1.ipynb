{
 "cells": [
  {
   "cell_type": "code",
   "execution_count": 1,
   "metadata": {},
   "outputs": [],
   "source": [
    "import czone as cz\n",
    "import numpy as np"
   ]
  },
  {
   "cell_type": "code",
   "execution_count": 2,
   "metadata": {},
   "outputs": [],
   "source": [
    "box = cz.volume.makeRectPrism(5,5,10)\n",
    "sc_gen = cz.generator.BasicStructure()\n",
    "H_volume = cz.volume.Volume(points=box, generator=sc_gen)\n",
    "\n",
    "box_side = cz.volume.makeRectPrism(5,10,5)\n",
    "He_volume = cz.volume.Volume(points=box_side, generator=sc_gen)\n",
    "He_volume.generator.species = [2]"
   ]
  },
  {
   "cell_type": "code",
   "execution_count": 3,
   "metadata": {},
   "outputs": [],
   "source": [
    "H_volume_t_zero = cz.volume.from_volume(H_volume, translate=np.array([10,0,0]))\n",
    "H_volume_t_one = cz.volume.from_volume(H_volume, translate=np.array([20,0,0]))\n",
    "\n",
    "He_volume_t_zero = cz.volume.from_volume(He_volume, translate=np.array([20,0,0]))\n",
    "He_volume_t_one = cz.volume.from_volume(He_volume, translate=np.array([10,0,0]))\n",
    "\n",
    "H_volume_t_one.priority=1\n",
    "He_volume_t_one.priority=1"
   ]
  },
  {
   "cell_type": "code",
   "execution_count": 4,
   "metadata": {},
   "outputs": [],
   "source": [
    "bounds = np.array([[0.0,0.0,0.0], [30.0, 30.0, 30.0]])\n",
    "obj_list =  [H_volume, He_volume, H_volume_t_zero, H_volume_t_one, He_volume_t_zero, He_volume_t_one]\n",
    "exclusion_scene = cz.scene.Scene(bounds=bounds, objects=obj_list)"
   ]
  },
  {
   "cell_type": "code",
   "execution_count": 5,
   "metadata": {},
   "outputs": [],
   "source": [
    "exclusion_scene.populate()"
   ]
  },
  {
   "cell_type": "code",
   "execution_count": 6,
   "metadata": {},
   "outputs": [
    {
     "data": {
      "application/vnd.jupyter.widget-view+json": {
       "model_id": "7ccd725d534944c6a9f57a35c6718466",
       "version_major": 2,
       "version_minor": 0
      },
      "text/plain": [
       "interactive(children=(FloatSlider(value=-60.0, description='Azimuth', layout=Layout(height='30px', width='400p…"
      ]
     },
     "metadata": {},
     "output_type": "display_data"
    },
    {
     "data": {
      "text/plain": [
       "<function czone.viz.viz.simple_scene_view_with_rotate(scene, azim=-60, elev=30)>"
      ]
     },
     "execution_count": 6,
     "metadata": {},
     "output_type": "execute_result"
    }
   ],
   "source": [
    "cz.viz.simple_scene_widget(exclusion_scene)"
   ]
  },
  {
   "cell_type": "code",
   "execution_count": 15,
   "metadata": {},
   "outputs": [],
   "source": [
    "obj_list = []\n",
    "for i in range(5):\n",
    "    box = cz.volume.makeRectPrism(25-3.75*i, 25-3.75*i, 5)\n",
    "    box += np.array([3.75*i, 3.75*i, 0.0])\n",
    "    tmp_vol = cz.volume.Volume(points=box, generator=sc_gen)\n",
    "    tmp_vol.generator.species = [i]\n",
    "    tmp_vol.priority = 5-i\n",
    "    obj_list.append(tmp_vol)\n",
    "    \n",
    "bounds = np.array([[0.0,0.0,0.0], [25.0, 25.0, 5.0]])\n",
    "stacking_scene = cz.scene.Scene(bounds=bounds, objects=obj_list)"
   ]
  },
  {
   "cell_type": "code",
   "execution_count": 16,
   "metadata": {},
   "outputs": [],
   "source": [
    "stacking_scene.populate()"
   ]
  },
  {
   "cell_type": "code",
   "execution_count": 17,
   "metadata": {},
   "outputs": [
    {
     "data": {
      "application/vnd.jupyter.widget-view+json": {
       "model_id": "3cfc8d5838f64366a017b482e4388edf",
       "version_major": 2,
       "version_minor": 0
      },
      "text/plain": [
       "interactive(children=(FloatSlider(value=-60.0, description='Azimuth', layout=Layout(height='30px', width='400p…"
      ]
     },
     "metadata": {},
     "output_type": "display_data"
    },
    {
     "data": {
      "text/plain": [
       "<function czone.viz.viz.simple_scene_view_with_rotate(scene, azim=-60, elev=30)>"
      ]
     },
     "execution_count": 17,
     "metadata": {},
     "output_type": "execute_result"
    }
   ],
   "source": [
    "cz.viz.simple_scene_widget(stacking_scene)"
   ]
  },
  {
   "cell_type": "code",
   "execution_count": null,
   "metadata": {},
   "outputs": [],
   "source": []
  }
 ],
 "metadata": {
  "kernelspec": {
   "display_name": "Python [conda env:ML_work]",
   "language": "python",
   "name": "conda-env-ML_work-py"
  },
  "language_info": {
   "codemirror_mode": {
    "name": "ipython",
    "version": 3
   },
   "file_extension": ".py",
   "mimetype": "text/x-python",
   "name": "python",
   "nbconvert_exporter": "python",
   "pygments_lexer": "ipython3",
   "version": "3.7.9"
  }
 },
 "nbformat": 4,
 "nbformat_minor": 4
}
