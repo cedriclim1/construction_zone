{
 "cells": [
  {
   "cell_type": "code",
   "execution_count": 1,
   "metadata": {},
   "outputs": [],
   "source": [
    "import czone as cz\n",
    "import numpy as np\n",
    "from ase import Atoms\n",
    "from ase.io import write as ase_write"
   ]
  },
  {
   "cell_type": "code",
   "execution_count": 2,
   "metadata": {},
   "outputs": [],
   "source": [
    "bbox = cz.volume.makeRectPrism(50,50,50)\n",
    "Au_gen = cz.generator.from_spacegroup(Z=[79], coords=np.array([[0,0,0]]),\\\n",
    "                                      cellDims=4.07825*np.ones(3), cellAngs=[90,90,90], sgn=225)\n",
    "pos, species = Au_gen.supply_atoms(bbox)"
   ]
  },
  {
   "cell_type": "code",
   "execution_count": 3,
   "metadata": {},
   "outputs": [],
   "source": [
    "ase_write(\"Au_block.xyz\", Atoms(symbols=species, positions=pos))"
   ]
  },
  {
   "cell_type": "code",
   "execution_count": 4,
   "metadata": {},
   "outputs": [],
   "source": [
    "sphere = cz.volume.algebraic.Sphere(center=np.mean(bbox,axis=0), radius=25.0)\n",
    "Au_sphere = cz.volume.Volume(alg_objects=[sphere], generator=Au_gen, gen_origin=np.array([0,0,0]))\n",
    "Au_sphere.populate_atoms()"
   ]
  },
  {
   "cell_type": "code",
   "execution_count": 5,
   "metadata": {},
   "outputs": [],
   "source": [
    "ase_write(\"Au_sphere.xyz\", Atoms(symbols=Au_sphere.species, positions=Au_sphere.atoms))"
   ]
  },
  {
   "cell_type": "code",
   "execution_count": 6,
   "metadata": {},
   "outputs": [],
   "source": [
    "Cu_gen = cz.generator.from_spacegroup(Z=[29], coords=np.array([[0,0,0]]),\\\n",
    "                                      cellDims=4.07825*np.ones(3), cellAngs=[90,90,90], sgn=225)\n",
    "small_sphere = cz.volume.algebraic.Sphere(center=np.mean(bbox,axis=0), radius=12.5)\n",
    "Cu_core = cz.volume.Volume(alg_objects=[small_sphere], generator=Cu_gen, gen_origin=np.array([0,0,0]))"
   ]
  },
  {
   "cell_type": "code",
   "execution_count": 7,
   "metadata": {},
   "outputs": [],
   "source": [
    "# cutoff_plane = cz.volume.algebraic.Plane(point=sphere.center, normal=np.array([1,0,0]))\n",
    "# Au_sphere.add_alg_object(cutoff_plane)\n",
    "# Cu_core.add_alg_object(cutoff_plane)"
   ]
  },
  {
   "cell_type": "code",
   "execution_count": 8,
   "metadata": {},
   "outputs": [],
   "source": [
    "bounds = np.array([[0.0,0.0,0.0], [30.0, 30.0, 30.0]])\n",
    "Cu_core.priority = 0\n",
    "Au_sphere.priority = 1\n",
    "example_scene = cz.scene.Scene(bounds=bounds, objects=[Au_sphere, Cu_core])"
   ]
  },
  {
   "cell_type": "code",
   "execution_count": 9,
   "metadata": {},
   "outputs": [],
   "source": [
    "example_scene.populate()"
   ]
  },
  {
   "cell_type": "code",
   "execution_count": 10,
   "metadata": {},
   "outputs": [],
   "source": [
    "cz.io.write_scene(\"Au_sphere_Cu_core.xyz\", example_scene)"
   ]
  },
  {
   "cell_type": "code",
   "execution_count": 11,
   "metadata": {},
   "outputs": [],
   "source": [
    "refl_111_plane = cz.volume.algebraic.snap_plane_near_point(sphere.center, Au_gen, (1,1,1))\n",
    "refl_111_transform = cz.transform.Reflection(refl_111_plane)\n",
    "vector_112 = np.array([1.0,1.0,-2.0])\n",
    "vector_121 = np.array([-1.0,2.0,-1.0])\n",
    "vector_112 *= (4.07825/6)\n",
    "vector_121 *= (4.07825/6)\n",
    "translate_112 = cz.transform.Translation(shift=2*vector_112.T)\n",
    "translate_121 = cz.transform.Translation(shift=2*vector_121.T)"
   ]
  },
  {
   "cell_type": "code",
   "execution_count": 12,
   "metadata": {},
   "outputs": [],
   "source": [
    "Au_gen_twin = cz.generator.from_generator(Au_gen, transformation=[refl_111_transform])\n",
    "Au_gen_shift_a = cz.generator.from_generator(Au_gen, transformation=[translate_112])\n",
    "Au_gen_shift_b = cz.generator.from_generator(Au_gen, transformation=[translate_121])\n",
    "\n",
    "cutoff_111_a = cz.volume.algebraic.snap_plane_near_point(np.array([32.62, 2.03, 22.43]), Au_gen, (1,1,1))\n",
    "cutoff_111_b = cz.volume.algebraic.snap_plane_near_point(np.array([20.39, 8.156, 16.313]), Au_gen, (1,1,1))\n",
    "cutoff_111_b.point += cutoff_111_b.normal"
   ]
  },
  {
   "cell_type": "code",
   "execution_count": 13,
   "metadata": {},
   "outputs": [],
   "source": [
    "Au_sphere.add_alg_object(refl_111_plane)\n",
    "Au_sphere_twin = cz.volume.Volume(alg_objects=[sphere], generator=Au_gen_twin, gen_origin=Au_gen_twin.voxel.origin)\n",
    "Au_sphere_shift_a = cz.volume.Volume(alg_objects=[sphere, cutoff_111_a], generator=Au_gen_shift_a, gen_origin=Au_gen_shift_a.voxel.origin)\n",
    "Au_sphere_shift_b = cz.volume.Volume(alg_objects=[sphere, cutoff_111_b], generator=Au_gen_shift_b, gen_origin=Au_gen_shift_b.voxel.origin)\n",
    "vol_list = [Au_sphere, Au_sphere_twin, Au_sphere_shift_a, Au_sphere_shift_b]"
   ]
  },
  {
   "cell_type": "code",
   "execution_count": 14,
   "metadata": {},
   "outputs": [],
   "source": [
    "Au_sphere.priority = 4\n",
    "Au_sphere_twin.priority = 5\n",
    "Au_sphere_shift_a.priority = 3\n",
    "Au_sphere_shift_b.priority = 2\n",
    "twin_scene = cz.scene.Scene(bounds=bounds, objects=vol_list)"
   ]
  },
  {
   "cell_type": "code",
   "execution_count": 15,
   "metadata": {},
   "outputs": [],
   "source": [
    "twin_scene.populate()"
   ]
  },
  {
   "cell_type": "code",
   "execution_count": 16,
   "metadata": {},
   "outputs": [],
   "source": [
    "cz.io.write_scene(\"Au_twin.xyz\", twin_scene)"
   ]
  },
  {
   "cell_type": "code",
   "execution_count": 17,
   "metadata": {},
   "outputs": [
    {
     "data": {
      "text/plain": [
       "(array([[0.24520321],\n",
       "        [0.24520321],\n",
       "        [0.24520321]]),\n",
       " array([[24.4695],\n",
       "        [24.4695],\n",
       "        [24.4695]]))"
      ]
     },
     "execution_count": 17,
     "metadata": {},
     "output_type": "execute_result"
    }
   ],
   "source": [
    "refl_111_plane.params"
   ]
  },
  {
   "cell_type": "code",
   "execution_count": 18,
   "metadata": {},
   "outputs": [],
   "source": [
    "translate_up = cz.transform.Translation(shift=np.array([12.5, 12.5, 50-sphere.center[2]]), locked=True) #shift from sides and above future substrate\n",
    "for vol in vol_list:\n",
    "       vol.transform(translate_up)"
   ]
  },
  {
   "cell_type": "code",
   "execution_count": 19,
   "metadata": {},
   "outputs": [],
   "source": [
    "C_substrate_gen = cz.generator.AmorphousGenerator(min_dist=1.2)"
   ]
  },
  {
   "cell_type": "code",
   "execution_count": 20,
   "metadata": {},
   "outputs": [],
   "source": [
    "substrate_vol = cz.volume.Volume(points=cz.volume.makeRectPrism(70,70,30), generator=C_substrate_gen)"
   ]
  },
  {
   "cell_type": "code",
   "execution_count": 21,
   "metadata": {},
   "outputs": [],
   "source": [
    "sub_bounds = np.array([[0.0,0.0,0.0], [70.0, 70.0, 85.0]])\n",
    "# vol_list.append(substrate_vol)\n",
    "twin_on_substrate_scene = cz.scene.Scene(bounds=sub_bounds, objects=vol_list)"
   ]
  },
  {
   "cell_type": "code",
   "execution_count": 22,
   "metadata": {},
   "outputs": [],
   "source": [
    "twin_on_substrate_scene.populate()"
   ]
  },
  {
   "cell_type": "code",
   "execution_count": 23,
   "metadata": {},
   "outputs": [],
   "source": [
    "cz.io.write_scene(\"Au_twin_on_substrate.xyz\", twin_on_substrate_scene)"
   ]
  },
  {
   "cell_type": "code",
   "execution_count": null,
   "metadata": {},
   "outputs": [],
   "source": []
  }
 ],
 "metadata": {
  "kernelspec": {
   "display_name": "Python [conda env:ML_work]",
   "language": "python",
   "name": "conda-env-ML_work-py"
  },
  "language_info": {
   "codemirror_mode": {
    "name": "ipython",
    "version": 3
   },
   "file_extension": ".py",
   "mimetype": "text/x-python",
   "name": "python",
   "nbconvert_exporter": "python",
   "pygments_lexer": "ipython3",
   "version": "3.7.9"
  }
 },
 "nbformat": 4,
 "nbformat_minor": 4
}
